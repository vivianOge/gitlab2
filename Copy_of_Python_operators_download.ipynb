{
  "nbformat": 4,
  "nbformat_minor": 0,
  "metadata": {
    "colab": {
      "name": "Copy of Python operators download.ipynb",
      "provenance": [],
      "collapsed_sections": [],
      "include_colab_link": true
    },
    "kernelspec": {
      "name": "python3",
      "display_name": "Python 3"
    }
  },
  "cells": [
    {
      "cell_type": "markdown",
      "metadata": {
        "id": "view-in-github",
        "colab_type": "text"
      },
      "source": [
        "<a href=\"https://colab.research.google.com/github/vivianOge/gitlab2/blob/main/Copy_of_Python_operators_download.ipynb\" target=\"_parent\"><img src=\"https://colab.research.google.com/assets/colab-badge.svg\" alt=\"Open In Colab\"/></a>"
      ]
    },
    {
      "cell_type": "markdown",
      "metadata": {
        "id": "y81OgfNdqzaL"
      },
      "source": [
        "Introduction to Python Data Types"
      ]
    },
    {
      "cell_type": "markdown",
      "metadata": {
        "id": "V-DItZn6wU2K"
      },
      "source": [
        "Numbers"
      ]
    },
    {
      "cell_type": "code",
      "metadata": {
        "id": "bQWGzZGTweGg"
      },
      "source": [
        "#1 assign a number to a variable\n",
        "#2 confirm that type of the variable\n",
        "#3 apply addition, subtraction, division and multiplication to the variable\n",
        "#4 Apply addition and change the assignment to the variable\n",
        "#5 apply multiplication and change the assignment to the variable\n"
      ],
      "execution_count": null,
      "outputs": []
    },
    {
      "cell_type": "code",
      "metadata": {
        "id": "ft7ucmqF0amG"
      },
      "source": [
        "x=10"
      ],
      "execution_count": null,
      "outputs": []
    },
    {
      "cell_type": "code",
      "metadata": {
        "colab": {
          "base_uri": "https://localhost:8080/"
        },
        "id": "mMgMxi2H0ijS",
        "outputId": "97098b13-7b95-4a75-df6d-43a289b891aa"
      },
      "source": [
        "type(x)"
      ],
      "execution_count": null,
      "outputs": [
        {
          "output_type": "execute_result",
          "data": {
            "text/plain": [
              "int"
            ]
          },
          "metadata": {},
          "execution_count": 6
        }
      ]
    },
    {
      "cell_type": "code",
      "metadata": {
        "colab": {
          "base_uri": "https://localhost:8080/"
        },
        "id": "uZ3GHV8p059K",
        "outputId": "98540780-e125-4838-e42e-1990acbe9998"
      },
      "source": [
        "print(x)\n",
        "x+5"
      ],
      "execution_count": null,
      "outputs": [
        {
          "output_type": "stream",
          "name": "stdout",
          "text": [
            "10\n"
          ]
        },
        {
          "output_type": "execute_result",
          "data": {
            "text/plain": [
              "15"
            ]
          },
          "metadata": {},
          "execution_count": 7
        }
      ]
    },
    {
      "cell_type": "code",
      "metadata": {
        "colab": {
          "base_uri": "https://localhost:8080/"
        },
        "id": "8AjXJ0A21Bd9",
        "outputId": "e9400c5c-2b16-4200-d56b-730f466a7c50"
      },
      "source": [
        "print(x)\n",
        "x-5"
      ],
      "execution_count": null,
      "outputs": [
        {
          "output_type": "stream",
          "name": "stdout",
          "text": [
            "10\n"
          ]
        },
        {
          "output_type": "execute_result",
          "data": {
            "text/plain": [
              "5"
            ]
          },
          "metadata": {},
          "execution_count": 8
        }
      ]
    },
    {
      "cell_type": "code",
      "metadata": {
        "colab": {
          "base_uri": "https://localhost:8080/"
        },
        "id": "Q1WW9aJ_1I8u",
        "outputId": "a5b98966-d3a1-43a9-eb44-72202da950fc"
      },
      "source": [
        "print(x)\n",
        "x/5"
      ],
      "execution_count": null,
      "outputs": [
        {
          "output_type": "stream",
          "name": "stdout",
          "text": [
            "10\n"
          ]
        },
        {
          "output_type": "execute_result",
          "data": {
            "text/plain": [
              "2.0"
            ]
          },
          "metadata": {},
          "execution_count": 7
        }
      ]
    },
    {
      "cell_type": "code",
      "metadata": {
        "colab": {
          "base_uri": "https://localhost:8080/"
        },
        "id": "3J4C_zzp1PCM",
        "outputId": "e0ef8fcd-08e1-4c51-d163-a8cfac3c56bd"
      },
      "source": [
        "print(x)\n",
        "x*10"
      ],
      "execution_count": null,
      "outputs": [
        {
          "output_type": "stream",
          "name": "stdout",
          "text": [
            "10\n"
          ]
        },
        {
          "output_type": "execute_result",
          "data": {
            "text/plain": [
              "100"
            ]
          },
          "metadata": {},
          "execution_count": 8
        }
      ]
    },
    {
      "cell_type": "code",
      "metadata": {
        "colab": {
          "base_uri": "https://localhost:8080/"
        },
        "id": "nCD8b0E4wLT4",
        "outputId": "29ac091c-0f91-4d23-d70d-b106f14c1352"
      },
      "source": [
        "print(x)\n",
        "x=x+5\n",
        "print(x)"
      ],
      "execution_count": null,
      "outputs": [
        {
          "output_type": "stream",
          "name": "stdout",
          "text": [
            "10\n",
            "15\n"
          ]
        }
      ]
    },
    {
      "cell_type": "code",
      "metadata": {
        "colab": {
          "base_uri": "https://localhost:8080/"
        },
        "id": "hcdYgMtrwU4G",
        "outputId": "87dcf47b-af6f-40a2-921d-e4a6eba97237"
      },
      "source": [
        "print(x)\n",
        "x*=3\n",
        "print(x)"
      ],
      "execution_count": null,
      "outputs": [
        {
          "output_type": "stream",
          "name": "stdout",
          "text": [
            "15\n",
            "45\n"
          ]
        }
      ]
    },
    {
      "cell_type": "markdown",
      "metadata": {
        "id": "x_asxCWq6vei"
      },
      "source": [
        "Booleans"
      ]
    },
    {
      "cell_type": "code",
      "metadata": {
        "id": "ypfYxt_w7b6w"
      },
      "source": [
        "#1 assign t and f with True and False\n",
        "#2 confirm the type of the variables\n",
        "#3 print the opposite of each variable"
      ],
      "execution_count": null,
      "outputs": []
    },
    {
      "cell_type": "code",
      "metadata": {
        "id": "4pvnxH4O2KZ7"
      },
      "source": [
        "t=(True)\n",
        "f=(False)"
      ],
      "execution_count": null,
      "outputs": []
    },
    {
      "cell_type": "code",
      "metadata": {
        "colab": {
          "base_uri": "https://localhost:8080/"
        },
        "id": "6ttaA5eQ2XFT",
        "outputId": "d2ee2c00-74fa-4d78-926c-b61bc4e77cdb"
      },
      "source": [
        "type(t)\n",
        "type(f)"
      ],
      "execution_count": null,
      "outputs": [
        {
          "output_type": "execute_result",
          "data": {
            "text/plain": [
              "bool"
            ]
          },
          "metadata": {},
          "execution_count": 11
        }
      ]
    },
    {
      "cell_type": "code",
      "metadata": {
        "colab": {
          "base_uri": "https://localhost:8080/"
        },
        "id": "HTz0Im5o2i_L",
        "outputId": "df070c1a-fb3e-4f31-e5cd-7c117d2ba7ca"
      },
      "source": [
        "print(not t)\n",
        "print(not f)\n",
        "print(-t)\n",
        "print(-f)"
      ],
      "execution_count": null,
      "outputs": [
        {
          "output_type": "stream",
          "name": "stdout",
          "text": [
            "False\n",
            "True\n",
            "-1\n",
            "0\n"
          ]
        }
      ]
    },
    {
      "cell_type": "markdown",
      "metadata": {
        "id": "lgaDzG_W83bK"
      },
      "source": [
        "Strings"
      ]
    },
    {
      "cell_type": "code",
      "metadata": {
        "id": "hNxiquPA85Ah"
      },
      "source": [
        "#1 create a string variable with 'Welcome'\n",
        "#2 create a string  variable with 'Your Name'\n",
        "#3 confirm the variable type\n",
        "#4 print the variables together\n",
        "#5 captilize the first letter of variable\n",
        "#6 capitalize all the letters in the VARIABLE"
      ],
      "execution_count": null,
      "outputs": []
    },
    {
      "cell_type": "code",
      "metadata": {
        "id": "bTLW_Art3FN7"
      },
      "source": [
        "a1='welcome'"
      ],
      "execution_count": null,
      "outputs": []
    },
    {
      "cell_type": "code",
      "metadata": {
        "id": "mJ1djtib3MAD"
      },
      "source": [
        "a2='Vivian'"
      ],
      "execution_count": null,
      "outputs": []
    },
    {
      "cell_type": "code",
      "metadata": {
        "colab": {
          "base_uri": "https://localhost:8080/"
        },
        "id": "Z0cVLpS03QCp",
        "outputId": "e182fb6c-4c7a-40f9-abeb-38c615e25488"
      },
      "source": [
        "type(a1)\n",
        "type(a2)"
      ],
      "execution_count": null,
      "outputs": [
        {
          "output_type": "execute_result",
          "data": {
            "text/plain": [
              "str"
            ]
          },
          "metadata": {},
          "execution_count": 13
        }
      ]
    },
    {
      "cell_type": "code",
      "metadata": {
        "colab": {
          "base_uri": "https://localhost:8080/"
        },
        "id": "a_PfVL4G3XTy",
        "outputId": "fb71cec2-6952-499f-b7b9-74e5fc68a208"
      },
      "source": [
        "print(a1,a2)"
      ],
      "execution_count": null,
      "outputs": [
        {
          "output_type": "stream",
          "name": "stdout",
          "text": [
            "welcome Vivian\n"
          ]
        }
      ]
    },
    {
      "cell_type": "code",
      "metadata": {
        "colab": {
          "base_uri": "https://localhost:8080/",
          "height": 35
        },
        "id": "QoecG6_K3ceh",
        "outputId": "25ca052a-879c-4a31-a343-a7fdc8993e14"
      },
      "source": [
        "a1.capitalize()"
      ],
      "execution_count": null,
      "outputs": [
        {
          "output_type": "execute_result",
          "data": {
            "application/vnd.google.colaboratory.intrinsic+json": {
              "type": "string"
            },
            "text/plain": [
              "'Welcome'"
            ]
          },
          "metadata": {},
          "execution_count": 15
        }
      ]
    },
    {
      "cell_type": "code",
      "metadata": {
        "colab": {
          "base_uri": "https://localhost:8080/",
          "height": 35
        },
        "id": "kipcXlEYxy1Y",
        "outputId": "46e7b703-4ae1-4bbb-c397-3ad0587acbaa"
      },
      "source": [
        "a2.upper()"
      ],
      "execution_count": null,
      "outputs": [
        {
          "output_type": "execute_result",
          "data": {
            "application/vnd.google.colaboratory.intrinsic+json": {
              "type": "string"
            },
            "text/plain": [
              "'VIVIAN'"
            ]
          },
          "metadata": {},
          "execution_count": 19
        }
      ]
    },
    {
      "cell_type": "code",
      "metadata": {
        "colab": {
          "base_uri": "https://localhost:8080/",
          "height": 35
        },
        "id": "5YcBIDBhx6hF",
        "outputId": "4fff9206-9d84-4e95-fbe0-36f729d2caa1"
      },
      "source": [
        "a1.upper()"
      ],
      "execution_count": null,
      "outputs": [
        {
          "output_type": "execute_result",
          "data": {
            "application/vnd.google.colaboratory.intrinsic+json": {
              "type": "string"
            },
            "text/plain": [
              "'WELCOME'"
            ]
          },
          "metadata": {},
          "execution_count": 20
        }
      ]
    },
    {
      "cell_type": "code",
      "metadata": {
        "colab": {
          "base_uri": "https://localhost:8080/"
        },
        "id": "85d-u3weyAp3",
        "outputId": "5cf9c1e4-e3b4-4e39-9e2a-d72608c3af14"
      },
      "source": [
        "print(a1.upper(),a2.upper())"
      ],
      "execution_count": null,
      "outputs": [
        {
          "output_type": "stream",
          "name": "stdout",
          "text": [
            "WELCOME VIVIAN\n"
          ]
        }
      ]
    },
    {
      "cell_type": "markdown",
      "metadata": {
        "id": "9ZF2CvDo-yAA"
      },
      "source": [
        "Floats"
      ]
    },
    {
      "cell_type": "code",
      "metadata": {
        "id": "RqPEd7mH-y_w"
      },
      "source": [
        "#1 assign a variable with a float value\n",
        "#2 confirm the variables is a float\n",
        "#3 apply addition, subtraction, division and multiplication to the variable\n",
        "#4 apply an operation to remove the decimal\n",
        "#5 confirm if the variable type has changed from float"
      ],
      "execution_count": null,
      "outputs": []
    },
    {
      "cell_type": "code",
      "metadata": {
        "id": "1NuK-Yzi5fG-"
      },
      "source": [
        "a=4.8"
      ],
      "execution_count": null,
      "outputs": []
    },
    {
      "cell_type": "code",
      "metadata": {
        "colab": {
          "base_uri": "https://localhost:8080/"
        },
        "id": "S39K_7i15jeC",
        "outputId": "19a7b34b-8f68-40c0-f3ed-9e2d98e858b0"
      },
      "source": [
        "type(a)"
      ],
      "execution_count": null,
      "outputs": [
        {
          "output_type": "execute_result",
          "data": {
            "text/plain": [
              "float"
            ]
          },
          "metadata": {},
          "execution_count": 32
        }
      ]
    },
    {
      "cell_type": "code",
      "metadata": {
        "colab": {
          "base_uri": "https://localhost:8080/"
        },
        "id": "hy5G_vJe5mKL",
        "outputId": "26a38008-fe75-4b44-e10a-70f94387dcf3"
      },
      "source": [
        "a+2\n",
        "\n"
      ],
      "execution_count": null,
      "outputs": [
        {
          "output_type": "execute_result",
          "data": {
            "text/plain": [
              "6.8"
            ]
          },
          "metadata": {},
          "execution_count": 35
        }
      ]
    },
    {
      "cell_type": "code",
      "metadata": {
        "colab": {
          "base_uri": "https://localhost:8080/"
        },
        "id": "If2CLqkS6QD-",
        "outputId": "343c40a7-fd57-48b6-bc20-48036305c798"
      },
      "source": [
        "a-.8"
      ],
      "execution_count": null,
      "outputs": [
        {
          "output_type": "execute_result",
          "data": {
            "text/plain": [
              "4.0"
            ]
          },
          "metadata": {},
          "execution_count": 36
        }
      ]
    },
    {
      "cell_type": "code",
      "metadata": {
        "colab": {
          "base_uri": "https://localhost:8080/"
        },
        "id": "h4qpQAiE6Uwd",
        "outputId": "350a680f-7d35-4933-9d91-6ca8e20aade6"
      },
      "source": [
        "a*2"
      ],
      "execution_count": null,
      "outputs": [
        {
          "output_type": "execute_result",
          "data": {
            "text/plain": [
              "9.6"
            ]
          },
          "metadata": {},
          "execution_count": 37
        }
      ]
    },
    {
      "cell_type": "code",
      "metadata": {
        "colab": {
          "base_uri": "https://localhost:8080/"
        },
        "id": "VJqoRu5k6XZ2",
        "outputId": "fa257025-c3de-4287-bb8d-f2eb55793a28"
      },
      "source": [
        "a/2"
      ],
      "execution_count": null,
      "outputs": [
        {
          "output_type": "execute_result",
          "data": {
            "text/plain": [
              "2.4"
            ]
          },
          "metadata": {},
          "execution_count": 38
        }
      ]
    },
    {
      "cell_type": "code",
      "metadata": {
        "colab": {
          "base_uri": "https://localhost:8080/"
        },
        "id": "LpeCAmKb6eUj",
        "outputId": "040d2ad5-9911-48a2-a27a-7b44ae196d01"
      },
      "source": [
        "a-=.8\n",
        "print(a)"
      ],
      "execution_count": null,
      "outputs": [
        {
          "output_type": "stream",
          "name": "stdout",
          "text": [
            "4.0\n"
          ]
        }
      ]
    },
    {
      "cell_type": "code",
      "metadata": {
        "colab": {
          "base_uri": "https://localhost:8080/"
        },
        "id": "49BHevrHzTS_",
        "outputId": "cbac4112-482a-4ad3-9cda-6e24006dc2b0"
      },
      "source": [
        "type(a)"
      ],
      "execution_count": null,
      "outputs": [
        {
          "output_type": "execute_result",
          "data": {
            "text/plain": [
              "float"
            ]
          },
          "metadata": {},
          "execution_count": 29
        }
      ]
    },
    {
      "cell_type": "markdown",
      "metadata": {
        "id": "YWf5G-Am_dA6"
      },
      "source": [
        "Lists - A list is the Python equivalent of an array, but is resizeable and can contain elements of different types"
      ]
    },
    {
      "cell_type": "code",
      "metadata": {
        "id": "7UBRROm5_eIA"
      },
      "source": [
        "#1 create a list using 2 methods\n",
        "#2 use index to identify a value in a specified location within the list\n",
        "#3 use index to identify the last value within the list\n",
        "#4 create a blank list\n",
        "#5 add values to the blank list\n",
        "#6 add values to a specified location\n",
        "#7 remove the last value from the list\n",
        "#8 reverse the list\n",
        "#9 what does multiplication do to a list\n",
        "#10 multiply each value of the list with 5 \n"
      ],
      "execution_count": null,
      "outputs": []
    },
    {
      "cell_type": "code",
      "metadata": {
        "id": "hUZ4ww260MLP"
      },
      "source": [
        "x=[0,1,2,3,4,5]"
      ],
      "execution_count": null,
      "outputs": []
    },
    {
      "cell_type": "code",
      "metadata": {
        "colab": {
          "base_uri": "https://localhost:8080/"
        },
        "id": "ooRHZ59I0Q0A",
        "outputId": "e3ee073f-7dfa-4749-db69-0b30bb7f6d8d"
      },
      "source": [
        "type(x)"
      ],
      "execution_count": null,
      "outputs": [
        {
          "output_type": "execute_result",
          "data": {
            "text/plain": [
              "list"
            ]
          },
          "metadata": {},
          "execution_count": 31
        }
      ]
    },
    {
      "cell_type": "code",
      "metadata": {
        "id": "iwotkcSj0TlQ"
      },
      "source": [
        "y = list((6,7,8,9,10))"
      ],
      "execution_count": null,
      "outputs": []
    },
    {
      "cell_type": "code",
      "metadata": {
        "colab": {
          "base_uri": "https://localhost:8080/"
        },
        "id": "xloDjjFX0aQo",
        "outputId": "b5d78a5c-3aaf-465a-d7f0-a94f521f0600"
      },
      "source": [
        "type(y)"
      ],
      "execution_count": null,
      "outputs": [
        {
          "output_type": "execute_result",
          "data": {
            "text/plain": [
              "list"
            ]
          },
          "metadata": {},
          "execution_count": 33
        }
      ]
    },
    {
      "cell_type": "code",
      "metadata": {
        "colab": {
          "base_uri": "https://localhost:8080/"
        },
        "id": "j0Q_VRr50doX",
        "outputId": "41060367-54ea-4879-c034-972d31a6afe9"
      },
      "source": [
        "y[2]"
      ],
      "execution_count": null,
      "outputs": [
        {
          "output_type": "execute_result",
          "data": {
            "text/plain": [
              "8"
            ]
          },
          "metadata": {},
          "execution_count": 34
        }
      ]
    },
    {
      "cell_type": "code",
      "metadata": {
        "colab": {
          "base_uri": "https://localhost:8080/"
        },
        "id": "9YX3OtX00ez4",
        "outputId": "7dfe3bd8-6de1-4359-bfe2-1242781db4f4"
      },
      "source": [
        "y[-1]"
      ],
      "execution_count": null,
      "outputs": [
        {
          "output_type": "execute_result",
          "data": {
            "text/plain": [
              "10"
            ]
          },
          "metadata": {},
          "execution_count": 36
        }
      ]
    },
    {
      "cell_type": "code",
      "metadata": {
        "id": "feVAn5AR0eb-"
      },
      "source": [
        "z=[]"
      ],
      "execution_count": null,
      "outputs": []
    },
    {
      "cell_type": "code",
      "metadata": {
        "id": "2vjEoMMU17qv"
      },
      "source": [
        "z.append('abcd')"
      ],
      "execution_count": null,
      "outputs": []
    },
    {
      "cell_type": "code",
      "metadata": {
        "id": "Pe4s21hk2Jld"
      },
      "source": [
        "z.append(2)"
      ],
      "execution_count": null,
      "outputs": []
    },
    {
      "cell_type": "code",
      "metadata": {
        "id": "4MWs-dRI2MaF"
      },
      "source": [
        "z.append(4)"
      ],
      "execution_count": null,
      "outputs": []
    },
    {
      "cell_type": "code",
      "metadata": {
        "colab": {
          "base_uri": "https://localhost:8080/"
        },
        "id": "Va90EgFw2PDK",
        "outputId": "6a8599b0-4634-4838-818a-1a361370246c"
      },
      "source": [
        "print(z)"
      ],
      "execution_count": null,
      "outputs": [
        {
          "output_type": "stream",
          "name": "stdout",
          "text": [
            "['abcd', 2, 4]\n"
          ]
        }
      ]
    },
    {
      "cell_type": "code",
      "metadata": {
        "id": "blnp7Ilg2Tmz"
      },
      "source": [
        "z.insert(0,'efgh')"
      ],
      "execution_count": null,
      "outputs": []
    },
    {
      "cell_type": "code",
      "metadata": {
        "colab": {
          "base_uri": "https://localhost:8080/"
        },
        "id": "8724krDf2mEX",
        "outputId": "75920467-8b76-45fd-afa4-fcc544d8b26d"
      },
      "source": [
        "print(z)"
      ],
      "execution_count": null,
      "outputs": [
        {
          "output_type": "stream",
          "name": "stdout",
          "text": [
            "['efgh', 'abcd', 2, 4]\n"
          ]
        }
      ]
    },
    {
      "cell_type": "code",
      "metadata": {
        "id": "Ps-TrPED2v1g"
      },
      "source": [
        "z.remove('abcd')"
      ],
      "execution_count": null,
      "outputs": []
    },
    {
      "cell_type": "code",
      "metadata": {
        "colab": {
          "base_uri": "https://localhost:8080/"
        },
        "id": "zTakqtOW4Han",
        "outputId": "5a43dace-da6e-4054-ec52-3b7e644169ac"
      },
      "source": [
        "print(z)"
      ],
      "execution_count": null,
      "outputs": [
        {
          "output_type": "stream",
          "name": "stdout",
          "text": [
            "['efgh', 2, 4]\n"
          ]
        }
      ]
    },
    {
      "cell_type": "code",
      "metadata": {
        "id": "mgmuF5zy47wH"
      },
      "source": [
        "z.reverse()"
      ],
      "execution_count": null,
      "outputs": []
    },
    {
      "cell_type": "code",
      "metadata": {
        "colab": {
          "base_uri": "https://localhost:8080/"
        },
        "id": "us4FY4G44-l2",
        "outputId": "bfe8b8ae-4aa9-47d4-e9c3-a4e099249364"
      },
      "source": [
        "print(z)"
      ],
      "execution_count": null,
      "outputs": [
        {
          "output_type": "stream",
          "name": "stdout",
          "text": [
            "[4, 2, 'efgh']\n"
          ]
        }
      ]
    },
    {
      "cell_type": "code",
      "metadata": {
        "colab": {
          "base_uri": "https://localhost:8080/"
        },
        "id": "79ISqc3X5adf",
        "outputId": "044fb43c-917f-4f13-db42-5565cedc2dd2"
      },
      "source": [
        "[5*i for i in z]"
      ],
      "execution_count": null,
      "outputs": [
        {
          "output_type": "execute_result",
          "data": {
            "text/plain": [
              "[20, 10, 'efghefghefghefghefgh']"
            ]
          },
          "metadata": {},
          "execution_count": 68
        }
      ]
    },
    {
      "cell_type": "markdown",
      "metadata": {
        "id": "x1_ZNu0bS_ZG"
      },
      "source": [
        "Tuples - A tuple is an (immutable) ordered list of values"
      ]
    },
    {
      "cell_type": "code",
      "metadata": {
        "id": "LDDlGTGaTJ7s"
      },
      "source": [
        "#1 Create a tuple using 2 methods\n",
        "#2 confirm what you have created is a tuple\n",
        "#3 combine both tuples created\n",
        "#4 nest both tuples created\n"
      ],
      "execution_count": null,
      "outputs": []
    },
    {
      "cell_type": "code",
      "metadata": {
        "id": "DzfHxTOm5pte"
      },
      "source": [
        "x=(0,1,2,3,4)"
      ],
      "execution_count": null,
      "outputs": []
    },
    {
      "cell_type": "code",
      "metadata": {
        "id": "rqAfeHhg-cCL"
      },
      "source": [
        "y=5,6,7,8"
      ],
      "execution_count": null,
      "outputs": []
    },
    {
      "cell_type": "code",
      "metadata": {
        "colab": {
          "base_uri": "https://localhost:8080/"
        },
        "id": "8m3Q5wu8AGJj",
        "outputId": "b3202e7d-6fbd-48bc-a6ba-7a8c9385f698"
      },
      "source": [
        "type(y)"
      ],
      "execution_count": null,
      "outputs": [
        {
          "output_type": "execute_result",
          "data": {
            "text/plain": [
              "tuple"
            ]
          },
          "metadata": {},
          "execution_count": 72
        }
      ]
    },
    {
      "cell_type": "code",
      "metadata": {
        "colab": {
          "base_uri": "https://localhost:8080/"
        },
        "id": "m8d42aDd-X5d",
        "outputId": "e3de5980-746d-4c00-b99c-426a81dbdffe"
      },
      "source": [
        "type(x)"
      ],
      "execution_count": null,
      "outputs": [
        {
          "output_type": "execute_result",
          "data": {
            "text/plain": [
              "tuple"
            ]
          },
          "metadata": {},
          "execution_count": 70
        }
      ]
    },
    {
      "cell_type": "code",
      "metadata": {
        "colab": {
          "base_uri": "https://localhost:8080/"
        },
        "id": "M0SneI7xAIrl",
        "outputId": "1531b7ec-0513-462f-96ac-c76e5cc2a3d3"
      },
      "source": [
        "x+y"
      ],
      "execution_count": null,
      "outputs": [
        {
          "output_type": "execute_result",
          "data": {
            "text/plain": [
              "(0, 1, 2, 3, 4, 5, 6, 7, 8)"
            ]
          },
          "metadata": {},
          "execution_count": 73
        }
      ]
    },
    {
      "cell_type": "code",
      "metadata": {
        "colab": {
          "base_uri": "https://localhost:8080/"
        },
        "id": "_U4_bBVwAKTz",
        "outputId": "de14a8f0-2524-4902-a6b4-4571c6734593"
      },
      "source": [
        "x,y"
      ],
      "execution_count": null,
      "outputs": [
        {
          "output_type": "execute_result",
          "data": {
            "text/plain": [
              "((0, 1, 2, 3, 4), (5, 6, 7, 8))"
            ]
          },
          "metadata": {},
          "execution_count": 74
        }
      ]
    },
    {
      "cell_type": "markdown",
      "metadata": {
        "id": "P9IOR_D9XaI3"
      },
      "source": [
        "Dictionaries - A dictionary stores (key, value) pairs"
      ]
    },
    {
      "cell_type": "code",
      "metadata": {
        "id": "kkVDHtHeY9FS"
      },
      "source": [
        "#1 Create a dict with 2 keys using 2 methods\n",
        "#2 add a thrid key to the dict above\n",
        "#3 get the keys from the dicts\n",
        "#4 get the values from the dicts\n",
        "#5 update a value in dict 1\n",
        "#6 get a value from a key \n",
        "#7 display all the elements in a dict\n"
      ],
      "execution_count": null,
      "outputs": []
    },
    {
      "cell_type": "code",
      "metadata": {
        "id": "yHuvq0JIAM2i"
      },
      "source": [
        "a={'key1':6,'key2':12}"
      ],
      "execution_count": null,
      "outputs": []
    },
    {
      "cell_type": "code",
      "metadata": {
        "id": "IWRGkYOWAynD"
      },
      "source": [
        "b= dict(key3=9,key4=18)"
      ],
      "execution_count": null,
      "outputs": []
    },
    {
      "cell_type": "code",
      "metadata": {
        "colab": {
          "base_uri": "https://localhost:8080/"
        },
        "id": "enszohWBA988",
        "outputId": "82b2c4f6-85d9-43c1-e0db-3921eea8b6f8"
      },
      "source": [
        "type(a)\n",
        "type(b)"
      ],
      "execution_count": null,
      "outputs": [
        {
          "output_type": "execute_result",
          "data": {
            "text/plain": [
              "dict"
            ]
          },
          "metadata": {},
          "execution_count": 77
        }
      ]
    },
    {
      "cell_type": "code",
      "metadata": {
        "id": "E4eMiN6YBCtz"
      },
      "source": [
        "b['key5']=27"
      ],
      "execution_count": null,
      "outputs": []
    },
    {
      "cell_type": "code",
      "metadata": {
        "colab": {
          "base_uri": "https://localhost:8080/"
        },
        "id": "W40iSkuQD2jD",
        "outputId": "717afa9d-e08e-4a28-e71d-898b9363d756"
      },
      "source": [
        "print(b)"
      ],
      "execution_count": null,
      "outputs": [
        {
          "output_type": "stream",
          "name": "stdout",
          "text": [
            "{'key3': 9, 'key4': 18, 'key5': 27}\n"
          ]
        }
      ]
    },
    {
      "cell_type": "code",
      "metadata": {
        "colab": {
          "base_uri": "https://localhost:8080/"
        },
        "id": "NJlg0RFNEQCs",
        "outputId": "78f9f2a1-9f5a-47d0-a982-9e3a15d73f63"
      },
      "source": [
        "a.keys()"
      ],
      "execution_count": null,
      "outputs": [
        {
          "output_type": "execute_result",
          "data": {
            "text/plain": [
              "dict_keys(['key1', 'key2'])"
            ]
          },
          "metadata": {},
          "execution_count": 93
        }
      ]
    },
    {
      "cell_type": "code",
      "metadata": {
        "colab": {
          "base_uri": "https://localhost:8080/"
        },
        "id": "DUjtqtwFEFRa",
        "outputId": "4b8fa52a-c862-4167-bffb-f64a4a20b714"
      },
      "source": [
        "a.values()"
      ],
      "execution_count": null,
      "outputs": [
        {
          "output_type": "execute_result",
          "data": {
            "text/plain": [
              "dict_values([6, 12])"
            ]
          },
          "metadata": {},
          "execution_count": 94
        }
      ]
    },
    {
      "cell_type": "code",
      "metadata": {
        "id": "Cl6KZlubFBCS"
      },
      "source": [
        "b['key3']=10"
      ],
      "execution_count": null,
      "outputs": []
    },
    {
      "cell_type": "code",
      "metadata": {
        "colab": {
          "base_uri": "https://localhost:8080/"
        },
        "id": "c3pvsMzbFfej",
        "outputId": "4ceda94c-f254-4767-9127-3e9c40ec273d"
      },
      "source": [
        "print(b)"
      ],
      "execution_count": null,
      "outputs": [
        {
          "output_type": "stream",
          "name": "stdout",
          "text": [
            "{'key3': 10, 'key4': 18, 'key5': 27}\n"
          ]
        }
      ]
    },
    {
      "cell_type": "code",
      "metadata": {
        "colab": {
          "base_uri": "https://localhost:8080/"
        },
        "id": "npNPJTIRE5Cu",
        "outputId": "c8a05d9b-f4eb-4714-8dab-1b8bc67a9aad"
      },
      "source": [
        "a.get('key2')"
      ],
      "execution_count": null,
      "outputs": [
        {
          "output_type": "execute_result",
          "data": {
            "text/plain": [
              "12"
            ]
          },
          "metadata": {},
          "execution_count": 95
        }
      ]
    },
    {
      "cell_type": "markdown",
      "metadata": {
        "id": "ghk52TXEcpFo"
      },
      "source": [
        "Sets"
      ]
    },
    {
      "cell_type": "code",
      "metadata": {
        "id": "--ug3bchcqkg"
      },
      "source": [
        "#1 create a set, using your name\n",
        "#2 verify that you created a set\n",
        "#3 create a list of names with fruits (with duplicates)\n",
        "#4 convert the fruits list to a set\n",
        "#5 confirm if there is 'orange' in the fruits set\n",
        "#6 create another set, using professors name\n",
        "#7 Which letters are in your name but not in professors\n",
        "#8 Which letters are in both your name and professors\n",
        "#9 which letters are in your name or professors name but not in both"
      ],
      "execution_count": null,
      "outputs": []
    },
    {
      "cell_type": "code",
      "metadata": {
        "id": "pUG0EuUkF_Ab"
      },
      "source": [
        "setname = set('vivian')"
      ],
      "execution_count": null,
      "outputs": []
    },
    {
      "cell_type": "code",
      "metadata": {
        "colab": {
          "base_uri": "https://localhost:8080/"
        },
        "id": "FaU2R8L4GorL",
        "outputId": "594bf852-26d1-4f03-8b97-654fe1b2c8f9"
      },
      "source": [
        "type(setname)"
      ],
      "execution_count": null,
      "outputs": [
        {
          "output_type": "execute_result",
          "data": {
            "text/plain": [
              "set"
            ]
          },
          "metadata": {},
          "execution_count": 101
        }
      ]
    },
    {
      "cell_type": "code",
      "metadata": {
        "id": "2edxRXb3Grw2"
      },
      "source": [
        "list_of_fruits = ['mango','banana','apple','mango','oranges','blue-berry','banana']"
      ],
      "execution_count": null,
      "outputs": []
    },
    {
      "cell_type": "code",
      "metadata": {
        "id": "bpbTJ4SFHckb"
      },
      "source": [
        "set_of_fruits = set(list_of_fruits)"
      ],
      "execution_count": null,
      "outputs": []
    },
    {
      "cell_type": "code",
      "metadata": {
        "colab": {
          "base_uri": "https://localhost:8080/"
        },
        "id": "j4Lc6XILH1Sk",
        "outputId": "61b62005-a50a-46dd-f5f2-7a65e18207da"
      },
      "source": [
        "print(set_of_fruits)"
      ],
      "execution_count": null,
      "outputs": [
        {
          "output_type": "stream",
          "name": "stdout",
          "text": [
            "{'blue-berry', 'apple', 'banana', 'oranges', 'mango'}\n"
          ]
        }
      ]
    },
    {
      "cell_type": "code",
      "metadata": {
        "id": "dtEk5LlMH8Kz"
      },
      "source": [
        "a = 'oranges' in set_of_fruits"
      ],
      "execution_count": null,
      "outputs": []
    },
    {
      "cell_type": "code",
      "metadata": {
        "colab": {
          "base_uri": "https://localhost:8080/"
        },
        "id": "SosUUuM9IbjD",
        "outputId": "0f0718a2-d01e-499f-b047-23be94b3bfee"
      },
      "source": [
        "print(a)"
      ],
      "execution_count": null,
      "outputs": [
        {
          "output_type": "stream",
          "name": "stdout",
          "text": [
            "True\n"
          ]
        }
      ]
    },
    {
      "cell_type": "code",
      "metadata": {
        "id": "sd2pKIYJIhuj"
      },
      "source": [
        "p = set('prof_bilial')"
      ],
      "execution_count": null,
      "outputs": []
    },
    {
      "cell_type": "code",
      "metadata": {
        "colab": {
          "base_uri": "https://localhost:8080/"
        },
        "id": "8wbW27uyIx7a",
        "outputId": "fc938ebb-6288-4851-8781-b899e680e5bb"
      },
      "source": [
        "print(p)"
      ],
      "execution_count": null,
      "outputs": [
        {
          "output_type": "stream",
          "name": "stdout",
          "text": [
            "{'f', 'r', '_', 'a', 'b', 'l', 'p', 'i', 'o'}\n"
          ]
        }
      ]
    },
    {
      "cell_type": "code",
      "metadata": {
        "colab": {
          "base_uri": "https://localhost:8080/"
        },
        "id": "rzWAd4IzJAHL",
        "outputId": "86a4fb09-8447-458d-e2bd-3c2b580e7c7e"
      },
      "source": [
        "setname-p"
      ],
      "execution_count": null,
      "outputs": [
        {
          "output_type": "execute_result",
          "data": {
            "text/plain": [
              "{'n', 'v'}"
            ]
          },
          "metadata": {},
          "execution_count": 112
        }
      ]
    },
    {
      "cell_type": "code",
      "metadata": {
        "colab": {
          "base_uri": "https://localhost:8080/"
        },
        "id": "6cjc8RvLJXv6",
        "outputId": "e8d68161-f869-4a77-968e-811b712cb735"
      },
      "source": [
        "p-setname"
      ],
      "execution_count": null,
      "outputs": [
        {
          "output_type": "execute_result",
          "data": {
            "text/plain": [
              "{'_', 'b', 'f', 'l', 'o', 'p', 'r'}"
            ]
          },
          "metadata": {},
          "execution_count": 113
        }
      ]
    },
    {
      "cell_type": "code",
      "metadata": {
        "colab": {
          "base_uri": "https://localhost:8080/"
        },
        "id": "OB5X93YHJeoj",
        "outputId": "2c3bdc2a-8326-449d-97a5-f51ad254920c"
      },
      "source": [
        "setname & p"
      ],
      "execution_count": null,
      "outputs": [
        {
          "output_type": "execute_result",
          "data": {
            "text/plain": [
              "{'a', 'i'}"
            ]
          },
          "metadata": {},
          "execution_count": 114
        }
      ]
    },
    {
      "cell_type": "code",
      "metadata": {
        "colab": {
          "base_uri": "https://localhost:8080/"
        },
        "id": "8bqKOepHJivK",
        "outputId": "d388f3d6-4ffe-43c2-fd9d-4ad34895fb22"
      },
      "source": [
        "setname^p"
      ],
      "execution_count": null,
      "outputs": [
        {
          "output_type": "execute_result",
          "data": {
            "text/plain": [
              "{'_', 'b', 'f', 'l', 'n', 'o', 'p', 'r', 'v'}"
            ]
          },
          "metadata": {},
          "execution_count": 115
        }
      ]
    }
  ]
}