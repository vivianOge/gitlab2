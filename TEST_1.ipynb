{
  "nbformat": 4,
  "nbformat_minor": 0,
  "metadata": {
    "colab": {
      "name": "TEST 1.ipynb",
      "provenance": [],
      "collapsed_sections": [],
      "include_colab_link": true
    },
    "kernelspec": {
      "name": "python3",
      "display_name": "Python 3"
    },
    "language_info": {
      "name": "python"
    }
  },
  "cells": [
    {
      "cell_type": "markdown",
      "metadata": {
        "id": "view-in-github",
        "colab_type": "text"
      },
      "source": [
        "<a href=\"https://colab.research.google.com/github/vivianOge/gitlab2/blob/main/TEST_1.ipynb\" target=\"_parent\"><img src=\"https://colab.research.google.com/assets/colab-badge.svg\" alt=\"Open In Colab\"/></a>"
      ]
    },
    {
      "cell_type": "code",
      "execution_count": null,
      "metadata": {
        "id": "99ulUab-IltM"
      },
      "outputs": [],
      "source": [
        "%matplotlib inline\n",
        "import math\n",
        "from pathlib import Path\n",
        "import pandas as pd\n",
        "from sklearn.model_selection import train_test_split\n",
        "from sklearn.linear_model import LinearRegression\n",
        "from sklearn.metrics import accuracy_score, roc_curve, auc\n",
        "import matplotlib.pylab as plt\n",
        "import seaborn as sns\n",
        "\n",
        "\n",
        "!pip install scikit-plot\n",
        "import scikitplot as skplt\n",
        "!pip install dmba\n",
        "from dmba import regressionSummary, classificationSummary, liftChart, gainsChart\n"
      ]
    },
    {
      "cell_type": "code",
      "source": [
        "Housing_df = pd.read_csv('BostonHousing.csv')"
      ],
      "metadata": {
        "id": "0PmmpUWBJOIt"
      },
      "execution_count": null,
      "outputs": []
    },
    {
      "cell_type": "code",
      "source": [
        "Housing_df.columns"
      ],
      "metadata": {
        "colab": {
          "base_uri": "https://localhost:8080/"
        },
        "id": "sMQbFLAbJXor",
        "outputId": "b8e7933a-f21a-497b-dccb-38a8d14e6dcd"
      },
      "execution_count": null,
      "outputs": [
        {
          "output_type": "execute_result",
          "data": {
            "text/plain": [
              "Index(['CRIM', 'ZN', 'INDUS', 'CHAS', 'NOX', 'RM', 'AGE', 'DIS', 'RAD', 'TAX',\n",
              "       'PTRATIO', 'LSTAT', 'MEDV', 'CAT. MEDV'],\n",
              "      dtype='object')"
            ]
          },
          "metadata": {},
          "execution_count": 3
        }
      ]
    },
    {
      "cell_type": "code",
      "source": [
        "Housing_df.columns = Housing_df.columns.str.replace('. ','_')"
      ],
      "metadata": {
        "id": "FSqfYRnEMfub"
      },
      "execution_count": null,
      "outputs": []
    },
    {
      "cell_type": "code",
      "source": [
        "Housing_df.columns"
      ],
      "metadata": {
        "colab": {
          "base_uri": "https://localhost:8080/"
        },
        "id": "aUJphooHLIG6",
        "outputId": "dd31dfd8-41bf-43cf-cccd-0fec95797d60"
      },
      "execution_count": null,
      "outputs": [
        {
          "output_type": "execute_result",
          "data": {
            "text/plain": [
              "Index(['CRIM', 'ZN', 'INDUS', 'CHAS', 'NOX', 'RM', 'AGE', 'DIS', 'RAD', 'TAX',\n",
              "       'PTRATIO', 'LSTAT', 'MEDV', 'CAT_MEDV'],\n",
              "      dtype='object')"
            ]
          },
          "metadata": {},
          "execution_count": 6
        }
      ]
    },
    {
      "cell_type": "code",
      "source": [
        "Housing_df.head(10)"
      ],
      "metadata": {
        "colab": {
          "base_uri": "https://localhost:8080/",
          "height": 362
        },
        "id": "ErTyLOJ7Pkkg",
        "outputId": "295dc896-1e9c-410b-d95b-04d6b0b4b3e0"
      },
      "execution_count": null,
      "outputs": [
        {
          "output_type": "execute_result",
          "data": {
            "text/html": [
              "\n",
              "  <div id=\"df-de028f34-e3fc-4c76-a0e7-3611b5bba8a8\">\n",
              "    <div class=\"colab-df-container\">\n",
              "      <div>\n",
              "<style scoped>\n",
              "    .dataframe tbody tr th:only-of-type {\n",
              "        vertical-align: middle;\n",
              "    }\n",
              "\n",
              "    .dataframe tbody tr th {\n",
              "        vertical-align: top;\n",
              "    }\n",
              "\n",
              "    .dataframe thead th {\n",
              "        text-align: right;\n",
              "    }\n",
              "</style>\n",
              "<table border=\"1\" class=\"dataframe\">\n",
              "  <thead>\n",
              "    <tr style=\"text-align: right;\">\n",
              "      <th></th>\n",
              "      <th>CRIM</th>\n",
              "      <th>ZN</th>\n",
              "      <th>INDUS</th>\n",
              "      <th>CHAS</th>\n",
              "      <th>NOX</th>\n",
              "      <th>RM</th>\n",
              "      <th>AGE</th>\n",
              "      <th>DIS</th>\n",
              "      <th>RAD</th>\n",
              "      <th>TAX</th>\n",
              "      <th>PTRATIO</th>\n",
              "      <th>LSTAT</th>\n",
              "      <th>MEDV</th>\n",
              "      <th>CAT_MEDV</th>\n",
              "    </tr>\n",
              "  </thead>\n",
              "  <tbody>\n",
              "    <tr>\n",
              "      <th>0</th>\n",
              "      <td>0.00632</td>\n",
              "      <td>18.0</td>\n",
              "      <td>2.31</td>\n",
              "      <td>0</td>\n",
              "      <td>0.538</td>\n",
              "      <td>6.575</td>\n",
              "      <td>65.2</td>\n",
              "      <td>4.0900</td>\n",
              "      <td>1</td>\n",
              "      <td>296</td>\n",
              "      <td>15.3</td>\n",
              "      <td>4.98</td>\n",
              "      <td>24.0</td>\n",
              "      <td>0</td>\n",
              "    </tr>\n",
              "    <tr>\n",
              "      <th>1</th>\n",
              "      <td>0.02731</td>\n",
              "      <td>0.0</td>\n",
              "      <td>7.07</td>\n",
              "      <td>0</td>\n",
              "      <td>0.469</td>\n",
              "      <td>6.421</td>\n",
              "      <td>78.9</td>\n",
              "      <td>4.9671</td>\n",
              "      <td>2</td>\n",
              "      <td>242</td>\n",
              "      <td>17.8</td>\n",
              "      <td>9.14</td>\n",
              "      <td>21.6</td>\n",
              "      <td>0</td>\n",
              "    </tr>\n",
              "    <tr>\n",
              "      <th>2</th>\n",
              "      <td>0.02729</td>\n",
              "      <td>0.0</td>\n",
              "      <td>7.07</td>\n",
              "      <td>0</td>\n",
              "      <td>0.469</td>\n",
              "      <td>7.185</td>\n",
              "      <td>61.1</td>\n",
              "      <td>4.9671</td>\n",
              "      <td>2</td>\n",
              "      <td>242</td>\n",
              "      <td>17.8</td>\n",
              "      <td>4.03</td>\n",
              "      <td>34.7</td>\n",
              "      <td>1</td>\n",
              "    </tr>\n",
              "    <tr>\n",
              "      <th>3</th>\n",
              "      <td>0.03237</td>\n",
              "      <td>0.0</td>\n",
              "      <td>2.18</td>\n",
              "      <td>0</td>\n",
              "      <td>0.458</td>\n",
              "      <td>6.998</td>\n",
              "      <td>45.8</td>\n",
              "      <td>6.0622</td>\n",
              "      <td>3</td>\n",
              "      <td>222</td>\n",
              "      <td>18.7</td>\n",
              "      <td>2.94</td>\n",
              "      <td>33.4</td>\n",
              "      <td>1</td>\n",
              "    </tr>\n",
              "    <tr>\n",
              "      <th>4</th>\n",
              "      <td>0.06905</td>\n",
              "      <td>0.0</td>\n",
              "      <td>2.18</td>\n",
              "      <td>0</td>\n",
              "      <td>0.458</td>\n",
              "      <td>7.147</td>\n",
              "      <td>54.2</td>\n",
              "      <td>6.0622</td>\n",
              "      <td>3</td>\n",
              "      <td>222</td>\n",
              "      <td>18.7</td>\n",
              "      <td>5.33</td>\n",
              "      <td>36.2</td>\n",
              "      <td>1</td>\n",
              "    </tr>\n",
              "    <tr>\n",
              "      <th>5</th>\n",
              "      <td>0.02985</td>\n",
              "      <td>0.0</td>\n",
              "      <td>2.18</td>\n",
              "      <td>0</td>\n",
              "      <td>0.458</td>\n",
              "      <td>6.430</td>\n",
              "      <td>58.7</td>\n",
              "      <td>6.0622</td>\n",
              "      <td>3</td>\n",
              "      <td>222</td>\n",
              "      <td>18.7</td>\n",
              "      <td>5.21</td>\n",
              "      <td>28.7</td>\n",
              "      <td>0</td>\n",
              "    </tr>\n",
              "    <tr>\n",
              "      <th>6</th>\n",
              "      <td>0.08829</td>\n",
              "      <td>12.5</td>\n",
              "      <td>7.87</td>\n",
              "      <td>0</td>\n",
              "      <td>0.524</td>\n",
              "      <td>6.012</td>\n",
              "      <td>66.6</td>\n",
              "      <td>5.5605</td>\n",
              "      <td>5</td>\n",
              "      <td>311</td>\n",
              "      <td>15.2</td>\n",
              "      <td>12.43</td>\n",
              "      <td>22.9</td>\n",
              "      <td>0</td>\n",
              "    </tr>\n",
              "    <tr>\n",
              "      <th>7</th>\n",
              "      <td>0.14455</td>\n",
              "      <td>12.5</td>\n",
              "      <td>7.87</td>\n",
              "      <td>0</td>\n",
              "      <td>0.524</td>\n",
              "      <td>6.172</td>\n",
              "      <td>96.1</td>\n",
              "      <td>5.9505</td>\n",
              "      <td>5</td>\n",
              "      <td>311</td>\n",
              "      <td>15.2</td>\n",
              "      <td>19.15</td>\n",
              "      <td>27.1</td>\n",
              "      <td>0</td>\n",
              "    </tr>\n",
              "    <tr>\n",
              "      <th>8</th>\n",
              "      <td>0.21124</td>\n",
              "      <td>12.5</td>\n",
              "      <td>7.87</td>\n",
              "      <td>0</td>\n",
              "      <td>0.524</td>\n",
              "      <td>5.631</td>\n",
              "      <td>100.0</td>\n",
              "      <td>6.0821</td>\n",
              "      <td>5</td>\n",
              "      <td>311</td>\n",
              "      <td>15.2</td>\n",
              "      <td>29.93</td>\n",
              "      <td>16.5</td>\n",
              "      <td>0</td>\n",
              "    </tr>\n",
              "    <tr>\n",
              "      <th>9</th>\n",
              "      <td>0.17004</td>\n",
              "      <td>12.5</td>\n",
              "      <td>7.87</td>\n",
              "      <td>0</td>\n",
              "      <td>0.524</td>\n",
              "      <td>6.004</td>\n",
              "      <td>85.9</td>\n",
              "      <td>6.5921</td>\n",
              "      <td>5</td>\n",
              "      <td>311</td>\n",
              "      <td>15.2</td>\n",
              "      <td>17.10</td>\n",
              "      <td>18.9</td>\n",
              "      <td>0</td>\n",
              "    </tr>\n",
              "  </tbody>\n",
              "</table>\n",
              "</div>\n",
              "      <button class=\"colab-df-convert\" onclick=\"convertToInteractive('df-de028f34-e3fc-4c76-a0e7-3611b5bba8a8')\"\n",
              "              title=\"Convert this dataframe to an interactive table.\"\n",
              "              style=\"display:none;\">\n",
              "        \n",
              "  <svg xmlns=\"http://www.w3.org/2000/svg\" height=\"24px\"viewBox=\"0 0 24 24\"\n",
              "       width=\"24px\">\n",
              "    <path d=\"M0 0h24v24H0V0z\" fill=\"none\"/>\n",
              "    <path d=\"M18.56 5.44l.94 2.06.94-2.06 2.06-.94-2.06-.94-.94-2.06-.94 2.06-2.06.94zm-11 1L8.5 8.5l.94-2.06 2.06-.94-2.06-.94L8.5 2.5l-.94 2.06-2.06.94zm10 10l.94 2.06.94-2.06 2.06-.94-2.06-.94-.94-2.06-.94 2.06-2.06.94z\"/><path d=\"M17.41 7.96l-1.37-1.37c-.4-.4-.92-.59-1.43-.59-.52 0-1.04.2-1.43.59L10.3 9.45l-7.72 7.72c-.78.78-.78 2.05 0 2.83L4 21.41c.39.39.9.59 1.41.59.51 0 1.02-.2 1.41-.59l7.78-7.78 2.81-2.81c.8-.78.8-2.07 0-2.86zM5.41 20L4 18.59l7.72-7.72 1.47 1.35L5.41 20z\"/>\n",
              "  </svg>\n",
              "      </button>\n",
              "      \n",
              "  <style>\n",
              "    .colab-df-container {\n",
              "      display:flex;\n",
              "      flex-wrap:wrap;\n",
              "      gap: 12px;\n",
              "    }\n",
              "\n",
              "    .colab-df-convert {\n",
              "      background-color: #E8F0FE;\n",
              "      border: none;\n",
              "      border-radius: 50%;\n",
              "      cursor: pointer;\n",
              "      display: none;\n",
              "      fill: #1967D2;\n",
              "      height: 32px;\n",
              "      padding: 0 0 0 0;\n",
              "      width: 32px;\n",
              "    }\n",
              "\n",
              "    .colab-df-convert:hover {\n",
              "      background-color: #E2EBFA;\n",
              "      box-shadow: 0px 1px 2px rgba(60, 64, 67, 0.3), 0px 1px 3px 1px rgba(60, 64, 67, 0.15);\n",
              "      fill: #174EA6;\n",
              "    }\n",
              "\n",
              "    [theme=dark] .colab-df-convert {\n",
              "      background-color: #3B4455;\n",
              "      fill: #D2E3FC;\n",
              "    }\n",
              "\n",
              "    [theme=dark] .colab-df-convert:hover {\n",
              "      background-color: #434B5C;\n",
              "      box-shadow: 0px 1px 3px 1px rgba(0, 0, 0, 0.15);\n",
              "      filter: drop-shadow(0px 1px 2px rgba(0, 0, 0, 0.3));\n",
              "      fill: #FFFFFF;\n",
              "    }\n",
              "  </style>\n",
              "\n",
              "      <script>\n",
              "        const buttonEl =\n",
              "          document.querySelector('#df-de028f34-e3fc-4c76-a0e7-3611b5bba8a8 button.colab-df-convert');\n",
              "        buttonEl.style.display =\n",
              "          google.colab.kernel.accessAllowed ? 'block' : 'none';\n",
              "\n",
              "        async function convertToInteractive(key) {\n",
              "          const element = document.querySelector('#df-de028f34-e3fc-4c76-a0e7-3611b5bba8a8');\n",
              "          const dataTable =\n",
              "            await google.colab.kernel.invokeFunction('convertToInteractive',\n",
              "                                                     [key], {});\n",
              "          if (!dataTable) return;\n",
              "\n",
              "          const docLinkHtml = 'Like what you see? Visit the ' +\n",
              "            '<a target=\"_blank\" href=https://colab.research.google.com/notebooks/data_table.ipynb>data table notebook</a>'\n",
              "            + ' to learn more about interactive tables.';\n",
              "          element.innerHTML = '';\n",
              "          dataTable['output_type'] = 'display_data';\n",
              "          await google.colab.output.renderOutput(dataTable, element);\n",
              "          const docLink = document.createElement('div');\n",
              "          docLink.innerHTML = docLinkHtml;\n",
              "          element.appendChild(docLink);\n",
              "        }\n",
              "      </script>\n",
              "    </div>\n",
              "  </div>\n",
              "  "
            ],
            "text/plain": [
              "      CRIM    ZN  INDUS  CHAS    NOX  ...  TAX  PTRATIO  LSTAT  MEDV  CAT_MEDV\n",
              "0  0.00632  18.0   2.31     0  0.538  ...  296     15.3   4.98  24.0         0\n",
              "1  0.02731   0.0   7.07     0  0.469  ...  242     17.8   9.14  21.6         0\n",
              "2  0.02729   0.0   7.07     0  0.469  ...  242     17.8   4.03  34.7         1\n",
              "3  0.03237   0.0   2.18     0  0.458  ...  222     18.7   2.94  33.4         1\n",
              "4  0.06905   0.0   2.18     0  0.458  ...  222     18.7   5.33  36.2         1\n",
              "5  0.02985   0.0   2.18     0  0.458  ...  222     18.7   5.21  28.7         0\n",
              "6  0.08829  12.5   7.87     0  0.524  ...  311     15.2  12.43  22.9         0\n",
              "7  0.14455  12.5   7.87     0  0.524  ...  311     15.2  19.15  27.1         0\n",
              "8  0.21124  12.5   7.87     0  0.524  ...  311     15.2  29.93  16.5         0\n",
              "9  0.17004  12.5   7.87     0  0.524  ...  311     15.2  17.10  18.9         0\n",
              "\n",
              "[10 rows x 14 columns]"
            ]
          },
          "metadata": {},
          "execution_count": 6
        }
      ]
    },
    {
      "cell_type": "code",
      "source": [
        "Housing_df.info()"
      ],
      "metadata": {
        "colab": {
          "base_uri": "https://localhost:8080/"
        },
        "id": "WdFatYKxS89i",
        "outputId": "3536b430-eb29-411f-c19e-3e03a50ed04c"
      },
      "execution_count": null,
      "outputs": [
        {
          "output_type": "stream",
          "name": "stdout",
          "text": [
            "<class 'pandas.core.frame.DataFrame'>\n",
            "RangeIndex: 506 entries, 0 to 505\n",
            "Data columns (total 14 columns):\n",
            " #   Column    Non-Null Count  Dtype  \n",
            "---  ------    --------------  -----  \n",
            " 0   CRIM      506 non-null    float64\n",
            " 1   ZN        506 non-null    float64\n",
            " 2   INDUS     506 non-null    float64\n",
            " 3   CHAS      506 non-null    int64  \n",
            " 4   NOX       506 non-null    float64\n",
            " 5   RM        506 non-null    float64\n",
            " 6   AGE       506 non-null    float64\n",
            " 7   DIS       506 non-null    float64\n",
            " 8   RAD       506 non-null    int64  \n",
            " 9   TAX       506 non-null    int64  \n",
            " 10  PTRATIO   506 non-null    float64\n",
            " 11  LSTAT     506 non-null    float64\n",
            " 12  MEDV      506 non-null    float64\n",
            " 13  CAT_MEDV  506 non-null    int64  \n",
            "dtypes: float64(10), int64(4)\n",
            "memory usage: 55.5 KB\n"
          ]
        }
      ]
    },
    {
      "cell_type": "code",
      "source": [
        "Housing_df.shape"
      ],
      "metadata": {
        "colab": {
          "base_uri": "https://localhost:8080/"
        },
        "id": "uTY6l-NFPsL5",
        "outputId": "9bde7d36-b00c-4870-b1bb-2f55a302ec75"
      },
      "execution_count": null,
      "outputs": [
        {
          "output_type": "execute_result",
          "data": {
            "text/plain": [
              "(506, 14)"
            ]
          },
          "metadata": {},
          "execution_count": 8
        }
      ]
    },
    {
      "cell_type": "markdown",
      "source": [
        "**a. Why should the data be partitioned into training and validation sets? What will the training set be used for? What will the validation set be used for?**"
      ],
      "metadata": {
        "id": "uDFdTj8qPx5Z"
      }
    },
    {
      "cell_type": "markdown",
      "source": [
        "Answer: We partition our data into training and validation sets because we want to build a model for prediction, and to do that, we need to set aside some dataset to train our model and then, the remaining dataset to test out our model.\n",
        "\n",
        "The training set will be used to train our model and the validation set(hold out dataset) we be used to test the validity of our model or how well the model we built performed."
      ],
      "metadata": {
        "id": "KYDVIohFP6dA"
      }
    },
    {
      "cell_type": "markdown",
      "source": [
        " **b. Fit a multiple linear regression model to the median house price (MEDV) as a function of CRIM, CHAS, and RM. Write the equation for predicting the\n",
        "median house price from the predictors in the model.** "
      ],
      "metadata": {
        "id": "PW09tPdrQ1fB"
      }
    },
    {
      "cell_type": "code",
      "source": [
        "predictors = ['CRIM','CHAS','RM']\n",
        "outcome = 'MEDV'"
      ],
      "metadata": {
        "id": "3vqZ2grGSPMK"
      },
      "execution_count": null,
      "outputs": []
    },
    {
      "cell_type": "code",
      "source": [
        "X = Housing_df[predictors]"
      ],
      "metadata": {
        "id": "lUBTdUeZYdoc"
      },
      "execution_count": null,
      "outputs": []
    },
    {
      "cell_type": "code",
      "source": [
        "Y = Housing_df[outcome]"
      ],
      "metadata": {
        "id": "N2VWlCTGYthd"
      },
      "execution_count": null,
      "outputs": []
    },
    {
      "cell_type": "code",
      "source": [
        "# Now I split my train and validation data, with my train data as 70% of the combined data from CRIM CHAS RM AND MEDV\n",
        "\n",
        "train_X,valid_X,train_Y,valid_Y = train_test_split(X,Y, train_size=0.3, random_state=None)"
      ],
      "metadata": {
        "id": "8LUKza2ETHdh"
      },
      "execution_count": null,
      "outputs": []
    },
    {
      "cell_type": "code",
      "source": [
        "print(train_X.shape)\n",
        "print(valid_X.shape)"
      ],
      "metadata": {
        "colab": {
          "base_uri": "https://localhost:8080/"
        },
        "id": "xm3ifiWvZbq0",
        "outputId": "fac15570-c325-405d-f9e6-5140e597167a"
      },
      "execution_count": null,
      "outputs": [
        {
          "output_type": "stream",
          "name": "stdout",
          "text": [
            "(151, 3)\n",
            "(355, 3)\n"
          ]
        }
      ]
    },
    {
      "cell_type": "code",
      "source": [
        "Housing_lm = LinearRegression()"
      ],
      "metadata": {
        "id": "cZn_M2RdSZjg"
      },
      "execution_count": null,
      "outputs": []
    },
    {
      "cell_type": "code",
      "source": [
        "Housing_lm.fit(train_X,train_Y)"
      ],
      "metadata": {
        "colab": {
          "base_uri": "https://localhost:8080/"
        },
        "id": "lmy_5OaSShon",
        "outputId": "866256ce-293e-465e-d911-06b474956185"
      },
      "execution_count": null,
      "outputs": [
        {
          "output_type": "execute_result",
          "data": {
            "text/plain": [
              "LinearRegression()"
            ]
          },
          "metadata": {},
          "execution_count": 13
        }
      ]
    },
    {
      "cell_type": "code",
      "source": [
        "pred_Y = Housing_lm.predict(train_X)\n",
        "pred_Y"
      ],
      "metadata": {
        "colab": {
          "base_uri": "https://localhost:8080/"
        },
        "id": "I9yxKOCCvzGt",
        "outputId": "2069af6b-74c3-4637-d8f1-f3243c22fad5"
      },
      "execution_count": null,
      "outputs": [
        {
          "output_type": "execute_result",
          "data": {
            "text/plain": [
              "array([20.84918798, 23.82374709, 20.60339355, 25.77688218, 25.93165987,\n",
              "       23.21143286, 16.50460712, 22.41981183, 16.23567626, 11.31177869,\n",
              "       44.11493567, 15.67768169, 27.7995093 , 24.22015982, 21.04945802,\n",
              "       20.36814991, 21.71761215, 20.37742413,  3.77963323, 16.98709474,\n",
              "       21.08726095, 15.88481612, 16.85027082, 11.29904305, 18.28940217,\n",
              "       20.15356751, 13.35361683, 25.89505994, 22.96046911, 24.15165044,\n",
              "       22.51685728, 40.53852603, 28.30207487, 26.03966129, 11.39730741,\n",
              "       30.74795915, 10.91664506, 28.94525654, 31.73897733, 24.03415253,\n",
              "       22.00707549, 13.21557688, 25.37877663, 17.83228148, 18.3930555 ,\n",
              "       24.30050497, 26.00683994, 21.95406951, 10.53612086, 20.8324421 ,\n",
              "       44.35300869, 21.66785555, 17.4888177 , 31.61932543, 14.401284  ,\n",
              "       21.82663954, 14.79825777, 16.29406121, 18.94352361, 19.41769953,\n",
              "       30.34158865, 22.05060724, 19.54877472, 29.76241404, 26.14213096,\n",
              "       19.9649793 , 23.96885979, 20.09572547, 21.6377616 ,  9.84041379,\n",
              "        4.89597782, 20.9884188 , 23.34698454, 12.45211539, 19.38907609,\n",
              "       22.25333996, 18.51796807, 33.09991099, 20.38088506, 25.67455138,\n",
              "       18.7430942 , 18.06318581, 22.78049847, 31.832752  , 20.7881204 ,\n",
              "       23.89554983, 18.40513829, 25.55379897, 19.19761796, 25.78910108,\n",
              "       21.91139631, 20.53396881, 21.07556867, 19.55754599, 38.38889146,\n",
              "       20.52659842, 19.13851271, 19.43112493, 26.92961861, 17.68839421,\n",
              "       31.81267045, 39.14568675, 18.16275637, 20.26987433, 17.88035913,\n",
              "       20.72991606, 26.41897827, 24.37847014, 18.07398584,  9.71975035,\n",
              "       21.29710128, 23.78909328, 17.3588803 , 15.33934969, 25.79870692,\n",
              "       20.5481426 , 17.89973128, -3.19610608, -0.53968291, 20.65931823,\n",
              "       21.37048763, 23.59401832, 15.29105514, 16.93621839, 24.32153682,\n",
              "       21.62913311, 24.70644639, 22.99949738, 38.80726329, 16.87189213,\n",
              "       19.13105952, 30.91397495, 23.60566311, 30.61663476, 21.98604665,\n",
              "       40.24975214, 31.96602102, 15.72662712, 26.12898191, 19.75892018,\n",
              "       22.61207296, 12.52658592, 18.21509741, 19.52659267, 15.30400409,\n",
              "       18.85684354, 22.61722824, 24.59345679, 19.85411615, 22.28897805,\n",
              "       18.03422423])"
            ]
          },
          "metadata": {},
          "execution_count": 14
        }
      ]
    },
    {
      "cell_type": "code",
      "source": [
        "pred_Y2 = Housing_lm.predict(valid_X)\n",
        "pred_Y2"
      ],
      "metadata": {
        "colab": {
          "base_uri": "https://localhost:8080/"
        },
        "id": "2MSIeZd4Ihoo",
        "outputId": "87b95982-65e9-49c9-bc23-131d1956ef4d"
      },
      "execution_count": null,
      "outputs": [
        {
          "output_type": "execute_result",
          "data": {
            "text/plain": [
              "array([ 29.46131338,  34.81213478,  16.53140289,  39.16444199,\n",
              "        16.74523926,  28.87746493,  -8.70832619,  19.23360895,\n",
              "        46.77158898,  18.81900959,  32.28104478,  16.94294164,\n",
              "        20.89914485,  30.35126271,  17.56920818,  22.63023274,\n",
              "        15.97239105,  21.15180903,  35.48988285,  27.02006118,\n",
              "        19.8840039 ,  23.51841791,  19.47881394,  16.94060589,\n",
              "        20.21467848,  17.84365896,  18.10100231,  21.09763993,\n",
              "        27.65342104,  21.989188  ,  40.89393142,  20.64744252,\n",
              "        40.33256592,  19.40500271,  20.74127343,  26.0446695 ,\n",
              "        27.58292296,  20.58762365,  21.7824036 ,  24.49200607,\n",
              "        18.52729175,  -6.67673943,  33.06854775,  30.61934835,\n",
              "        11.53857329,  31.55640451,  24.55837447,  15.22047152,\n",
              "        24.21632901,  29.21344901,  20.06443372,  19.75538125,\n",
              "        22.00254388,   1.80802225,  25.51034375,  19.71031548,\n",
              "        23.065338  ,  27.63089562,  30.95395235,  17.13407062,\n",
              "        16.69189702,  22.47214434,  20.27575057,  30.893639  ,\n",
              "        17.83996458,  26.199432  ,  21.59349436,  17.72276025,\n",
              "        21.84117792,  19.50087084,  -1.64377501,  25.56344123,\n",
              "        20.02194318,  16.44545559,  29.61106473,  20.19436058,\n",
              "        23.35794359,  25.28039185,  28.06944974,  21.8527934 ,\n",
              "        10.14960887,  13.60225897,  19.22133022,  17.76449076,\n",
              "        18.21557501,  22.73794183,  20.13254157,  17.96723235,\n",
              "         9.2875765 ,  32.53995655,  28.4539895 ,  20.39278793,\n",
              "        20.7196456 ,  26.37561871,  36.95146252,  26.82398461,\n",
              "        -0.97739058,  19.17796551,  29.003537  ,  21.52002583,\n",
              "        23.99086032,  21.12994484,  19.27067292,  12.64523938,\n",
              "        18.58858618,  -8.02483625,  11.55996357,  17.09423246,\n",
              "        20.61631999,  21.67624806,  23.13745708,  27.45906074,\n",
              "         4.03844629,  21.52130997,  23.31325875,  40.42768178,\n",
              "        27.64255405,  16.84199097,  23.33538622,  24.81372181,\n",
              "        25.67723808, -25.39196851,  23.80737275,  17.04539768,\n",
              "        10.28206881,  17.23985703,  23.69683714,   9.95057605,\n",
              "        21.1807572 ,   8.45567259,  18.12954728,  27.25268754,\n",
              "        22.02716568,  22.44366508,  30.69088925,  24.20397799,\n",
              "        19.48259008,  25.90297678,   9.17749931,  24.25768097,\n",
              "        12.67679704,  30.09985843,  24.91397268,  29.12876322,\n",
              "        10.01303889,  19.63925477,  17.73305315,  24.88873175,\n",
              "        -6.44666339,  19.29393592,  20.35594943,  17.91559027,\n",
              "        36.74405462,  28.17188601,  20.70113412,  36.15464153,\n",
              "       -20.86560724,  24.00325489,  18.33097397,  23.33914912,\n",
              "         9.63576197,  33.43739481,  29.07096265,  14.94477797,\n",
              "        17.0212369 ,  19.23079174,  38.56042163,  25.66451371,\n",
              "        19.88749171,  13.80536202,  10.7978136 ,  25.07960465,\n",
              "        -4.64468402,  19.01770085,  27.5459867 ,  17.20452968,\n",
              "        19.36856505,  16.7278162 ,  20.6253996 ,  17.58157596,\n",
              "        29.62582837,  26.50855977,  22.07056154,  25.14544017,\n",
              "        31.05262837,  18.68709185,  41.4672459 ,  13.7302706 ,\n",
              "        19.59843885,  25.3808412 ,  24.2868232 ,  21.78000604,\n",
              "        31.02134795,  17.67995749,  19.64987753,  24.25304035,\n",
              "        31.62704521, -13.26725683,  19.67575802,  20.3471293 ,\n",
              "        25.20119212,  41.34312991,  36.39811233,  18.70143727,\n",
              "        22.25314916,  23.49800879,  24.79658174,  23.6846626 ,\n",
              "        20.41928589,  29.1847601 ,  32.84862684,  19.35287491,\n",
              "        26.85322429,  33.69895002,  17.73381274,  23.80711175,\n",
              "        13.13808922,  25.43253253,  16.67730566,  19.04112155,\n",
              "        23.16589526,  30.49573239,  19.37534646,  11.36591268,\n",
              "        16.77946153,  30.20666468,  24.05285959,  17.35223686,\n",
              "        38.85750532,  19.29818516,  23.243046  ,  20.68866347,\n",
              "        23.04966954,  20.03848662,  20.63767258,  22.64079521,\n",
              "        20.69710202,  22.4570647 ,  11.4757705 ,  19.9973281 ,\n",
              "         5.12748885,  22.24541768,  20.69616504,  36.63080521,\n",
              "        20.55265482,  28.26707648,  29.39680118, -24.33195434,\n",
              "        26.99631281,  27.08501265,  15.02600799,  20.43525608,\n",
              "        20.11580216,  11.48594219,  20.44481266,  20.18972464,\n",
              "        22.61724753,  29.19407043,  27.42816103,  29.22194737,\n",
              "        24.47696974,  18.44867393,  18.65329342,  22.36265578,\n",
              "        24.39056394,  21.96592833,  19.75135096,  30.69364255,\n",
              "        26.22710937,  19.96477628,  -3.78450773,  24.22735009,\n",
              "        25.83809093,  16.65924006,  15.56742765,  24.33490019,\n",
              "        12.61964402,  20.43005023,  22.77070188,  21.62917516,\n",
              "        18.5226069 ,  28.18437325,  18.60965746,  29.28092897,\n",
              "        21.18468659,  19.65703343,   9.88562377,  -7.33263799,\n",
              "        23.01069604,  18.1535687 ,  28.08466142,  25.4604869 ,\n",
              "        22.75325803,  16.75785041,  23.50807413,  20.64800562,\n",
              "        21.5210554 ,  21.27202648,  27.7920457 ,   5.31129184,\n",
              "        21.5861644 ,  35.31236451,  19.17136902,  -9.30622928,\n",
              "        17.83110936,  25.41536821,  17.98135094,  19.12319687,\n",
              "        26.73207746,  24.43352563,  23.35216353,  21.62173795,\n",
              "        24.80706941,  11.95694035,  22.08237996,  -2.25671263,\n",
              "        19.61417383,  24.83862035,  23.72341971,  31.94613677,\n",
              "        21.34042371,  20.18765304,  19.38447792,  31.48607846,\n",
              "        18.12487624,  25.92584346,  36.65939198,  27.32280725,\n",
              "        37.15909991,  17.59168328,  14.92673483,  16.92448157,\n",
              "        19.45969651,   9.13888118,  19.46624625,  44.40498996,\n",
              "        32.78859927,  18.74049943,  24.62042811,  21.1304264 ,\n",
              "        13.74206081,  28.15605993,  21.30048382,  21.11433343,\n",
              "        -6.28406627,  25.35365328,   4.94727384,  23.85556184,\n",
              "        26.8767782 ,  19.76931209,  33.25310082,  31.01764074,\n",
              "       -26.03469006,  15.12770967,  16.02003254])"
            ]
          },
          "metadata": {},
          "execution_count": 15
        }
      ]
    },
    {
      "cell_type": "code",
      "source": [
        "regressionSummary(train_Y, pred_Y)"
      ],
      "metadata": {
        "colab": {
          "base_uri": "https://localhost:8080/"
        },
        "id": "T7s5oCNDIt0v",
        "outputId": "f7397a3c-1d56-4477-fdd2-feb2dac065b5"
      },
      "execution_count": null,
      "outputs": [
        {
          "output_type": "stream",
          "name": "stdout",
          "text": [
            "\n",
            "Regression statistics\n",
            "\n",
            "                      Mean Error (ME) : 0.0000\n",
            "       Root Mean Squared Error (RMSE) : 4.8352\n",
            "            Mean Absolute Error (MAE) : 3.4843\n",
            "          Mean Percentage Error (MPE) : -5.7950\n",
            "Mean Absolute Percentage Error (MAPE) : 20.8811\n"
          ]
        }
      ]
    },
    {
      "cell_type": "code",
      "source": [
        "regressionSummary(valid_Y, pred_Y2)"
      ],
      "metadata": {
        "colab": {
          "base_uri": "https://localhost:8080/"
        },
        "id": "7gWlVP1TJ7nR",
        "outputId": "b02b9e44-15e5-4bca-8e61-fe96676d9575"
      },
      "execution_count": null,
      "outputs": [
        {
          "output_type": "stream",
          "name": "stdout",
          "text": [
            "\n",
            "Regression statistics\n",
            "\n",
            "                      Mean Error (ME) : 1.9979\n",
            "       Root Mean Squared Error (RMSE) : 7.8272\n",
            "            Mean Absolute Error (MAE) : 4.7125\n",
            "          Mean Percentage Error (MPE) : 9.9569\n",
            "Mean Absolute Percentage Error (MAPE) : 27.0184\n"
          ]
        }
      ]
    },
    {
      "cell_type": "code",
      "source": [
        "from dmba import adjusted_r2_score"
      ],
      "metadata": {
        "id": "JMbsHYCcMEYl"
      },
      "execution_count": null,
      "outputs": []
    },
    {
      "cell_type": "code",
      "source": [
        "adjusted_r2_score(train_Y,pred_Y, Housing_lm)"
      ],
      "metadata": {
        "colab": {
          "base_uri": "https://localhost:8080/"
        },
        "id": "v4_oFxDSL2W8",
        "outputId": "0b539079-3893-4ad4-cd87-f053f9c16c1b"
      },
      "execution_count": null,
      "outputs": [
        {
          "output_type": "execute_result",
          "data": {
            "text/plain": [
              "0.6818239677982816"
            ]
          },
          "metadata": {},
          "execution_count": 19
        }
      ]
    },
    {
      "cell_type": "code",
      "source": [
        "adjusted_r2_score(valid_Y,pred_Y2, Housing_lm)"
      ],
      "metadata": {
        "colab": {
          "base_uri": "https://localhost:8080/"
        },
        "id": "Jdt96W9xMMD9",
        "outputId": "b94feaf2-0569-4f4e-d025-7d177d57484e"
      },
      "execution_count": null,
      "outputs": [
        {
          "output_type": "execute_result",
          "data": {
            "text/plain": [
              "0.5014399844338895"
            ]
          },
          "metadata": {},
          "execution_count": 41
        }
      ]
    },
    {
      "cell_type": "code",
      "source": [
        "#To get the coefficient,Intercept, Slopes of CRIM CHAS & RM\n",
        "print(Housing_lm.score(X,Y),\n",
        "Housing_lm.intercept_,\n",
        "Housing_lm.coef_)"
      ],
      "metadata": {
        "colab": {
          "base_uri": "https://localhost:8080/"
        },
        "id": "fnwrboyNKel5",
        "outputId": "2ffb646f-a386-4fac-fe98-cc9f87c05bb9"
      },
      "execution_count": null,
      "outputs": [
        {
          "output_type": "stream",
          "name": "stdout",
          "text": [
            "0.40820030153924003 -32.43033740749452 [-0.62023814  3.76055789  8.83784163]\n"
          ]
        }
      ]
    },
    {
      "cell_type": "code",
      "source": [
        "print(pd.DataFrame({'Predictor': X.columns, 'coefficient': Housing_lm.coef_})) # To convert it to a dataframe "
      ],
      "metadata": {
        "colab": {
          "base_uri": "https://localhost:8080/"
        },
        "id": "DIMdq9KoRgYZ",
        "outputId": "6d6ffa9e-2c52-455e-e2ed-b707171d7b4f"
      },
      "execution_count": null,
      "outputs": [
        {
          "output_type": "stream",
          "name": "stdout",
          "text": [
            "  Predictor  coefficient\n",
            "0      CRIM    -0.620238\n",
            "1      CHAS     3.760558\n",
            "2        RM     8.837842\n"
          ]
        }
      ]
    },
    {
      "cell_type": "code",
      "source": [
        ""
      ],
      "metadata": {
        "id": "FnTGiJBWzoRE"
      },
      "execution_count": null,
      "outputs": []
    },
    {
      "cell_type": "markdown",
      "source": [
        "**Equation for predicting the median house price:**\n",
        "\n",
        "\n",
        "**MEDV = -35.44 - 0.23*CRIM + 2.01*CHAS + 9.36*RM**"
      ],
      "metadata": {
        "id": "NmU1EzoiTJYZ"
      }
    },
    {
      "cell_type": "markdown",
      "source": [
        "**c. Using the estimated regression model, what median house price is predicted\n",
        "for a tract in the Boston area that does not bound the Charles River, has a\n",
        "crime rate of 0.1, and where the average number of rooms per house is 6?**"
      ],
      "metadata": {
        "id": "AAsrhjB3sQ2X"
      }
    },
    {
      "cell_type": "code",
      "source": [
        " MEDV = -35.44 - 0.23*(0.1) + 2.01*(0) + 9.36*(6) \n",
        " print(MEDV)"
      ],
      "metadata": {
        "colab": {
          "base_uri": "https://localhost:8080/"
        },
        "id": "Nrr7y0zmU3UR",
        "outputId": "91b42d67-592d-4bc2-8e20-702fb88e31f7"
      },
      "execution_count": null,
      "outputs": [
        {
          "output_type": "stream",
          "name": "stdout",
          "text": [
            "20.696999999999996\n"
          ]
        }
      ]
    },
    {
      "cell_type": "markdown",
      "source": [
        "**From the above, the estimated median house price predicted for the Boston area with the description above is 20.699.**"
      ],
      "metadata": {
        "id": "onyJUPxBWzLe"
      }
    },
    {
      "cell_type": "markdown",
      "source": [
        "**d) Reduce the number of predictors:**\n",
        "\n",
        "\n",
        "**i. Which predictors are likely to be measuring the same thing among the 13\n",
        "predictors? Discuss the relationships among INDUS, NOX, and TAX.**\n"
      ],
      "metadata": {
        "id": "adC1mErxX1ig"
      }
    },
    {
      "cell_type": "markdown",
      "source": [
        "Apart from the predictors on themselves, the pairs: INDUS & DIS,INDUS & TAX, NOX & AGE, NOX & DIS, NOX & INDUS, AGE & DIS, RAD & TAX, LSTAT & MEDV,MEDV & CAT_MEDV are likely to be measuring the same thing because they are highly correlated.\n",
        "\n",
        "INDUS,TAX and NOX have a positive correlation with each other, hence, they would give the same information because they are measuring the same thing. \n",
        "\n",
        "\n"
      ],
      "metadata": {
        "id": "qBv8MLNAfOYP"
      }
    },
    {
      "cell_type": "markdown",
      "source": [
        "**ii. Compute the correlation table for the 12 numerical predictors and** **search for highly correlated pairs. These have potential redundancy and can**\n",
        "**cause multicollinearity. Choose which ones to remove based on this table.**"
      ],
      "metadata": {
        "id": "W6hFhctDZpyX"
      }
    },
    {
      "cell_type": "code",
      "source": [
        "Housing_df.iloc[:,0:12].corr()"
      ],
      "metadata": {
        "colab": {
          "base_uri": "https://localhost:8080/",
          "height": 489
        },
        "id": "DVHYHPCL8PI0",
        "outputId": "f947ca74-36b9-4969-916c-df786529b606"
      },
      "execution_count": null,
      "outputs": [
        {
          "output_type": "execute_result",
          "data": {
            "text/html": [
              "\n",
              "  <div id=\"df-837d905c-27bc-4945-98bf-40e1aea11964\">\n",
              "    <div class=\"colab-df-container\">\n",
              "      <div>\n",
              "<style scoped>\n",
              "    .dataframe tbody tr th:only-of-type {\n",
              "        vertical-align: middle;\n",
              "    }\n",
              "\n",
              "    .dataframe tbody tr th {\n",
              "        vertical-align: top;\n",
              "    }\n",
              "\n",
              "    .dataframe thead th {\n",
              "        text-align: right;\n",
              "    }\n",
              "</style>\n",
              "<table border=\"1\" class=\"dataframe\">\n",
              "  <thead>\n",
              "    <tr style=\"text-align: right;\">\n",
              "      <th></th>\n",
              "      <th>CRIM</th>\n",
              "      <th>ZN</th>\n",
              "      <th>INDUS</th>\n",
              "      <th>CHAS</th>\n",
              "      <th>NOX</th>\n",
              "      <th>RM</th>\n",
              "      <th>AGE</th>\n",
              "      <th>DIS</th>\n",
              "      <th>RAD</th>\n",
              "      <th>TAX</th>\n",
              "      <th>PTRATIO</th>\n",
              "      <th>LSTAT</th>\n",
              "    </tr>\n",
              "  </thead>\n",
              "  <tbody>\n",
              "    <tr>\n",
              "      <th>CRIM</th>\n",
              "      <td>1.000000</td>\n",
              "      <td>-0.200469</td>\n",
              "      <td>0.406583</td>\n",
              "      <td>-0.055892</td>\n",
              "      <td>0.420972</td>\n",
              "      <td>-0.219247</td>\n",
              "      <td>0.352734</td>\n",
              "      <td>-0.379670</td>\n",
              "      <td>0.625505</td>\n",
              "      <td>0.582764</td>\n",
              "      <td>0.289946</td>\n",
              "      <td>0.455621</td>\n",
              "    </tr>\n",
              "    <tr>\n",
              "      <th>ZN</th>\n",
              "      <td>-0.200469</td>\n",
              "      <td>1.000000</td>\n",
              "      <td>-0.533828</td>\n",
              "      <td>-0.042697</td>\n",
              "      <td>-0.516604</td>\n",
              "      <td>0.311991</td>\n",
              "      <td>-0.569537</td>\n",
              "      <td>0.664408</td>\n",
              "      <td>-0.311948</td>\n",
              "      <td>-0.314563</td>\n",
              "      <td>-0.391679</td>\n",
              "      <td>-0.412995</td>\n",
              "    </tr>\n",
              "    <tr>\n",
              "      <th>INDUS</th>\n",
              "      <td>0.406583</td>\n",
              "      <td>-0.533828</td>\n",
              "      <td>1.000000</td>\n",
              "      <td>0.062938</td>\n",
              "      <td>0.763651</td>\n",
              "      <td>-0.391676</td>\n",
              "      <td>0.644779</td>\n",
              "      <td>-0.708027</td>\n",
              "      <td>0.595129</td>\n",
              "      <td>0.720760</td>\n",
              "      <td>0.383248</td>\n",
              "      <td>0.603800</td>\n",
              "    </tr>\n",
              "    <tr>\n",
              "      <th>CHAS</th>\n",
              "      <td>-0.055892</td>\n",
              "      <td>-0.042697</td>\n",
              "      <td>0.062938</td>\n",
              "      <td>1.000000</td>\n",
              "      <td>0.091203</td>\n",
              "      <td>0.091251</td>\n",
              "      <td>0.086518</td>\n",
              "      <td>-0.099176</td>\n",
              "      <td>-0.007368</td>\n",
              "      <td>-0.035587</td>\n",
              "      <td>-0.121515</td>\n",
              "      <td>-0.053929</td>\n",
              "    </tr>\n",
              "    <tr>\n",
              "      <th>NOX</th>\n",
              "      <td>0.420972</td>\n",
              "      <td>-0.516604</td>\n",
              "      <td>0.763651</td>\n",
              "      <td>0.091203</td>\n",
              "      <td>1.000000</td>\n",
              "      <td>-0.302188</td>\n",
              "      <td>0.731470</td>\n",
              "      <td>-0.769230</td>\n",
              "      <td>0.611441</td>\n",
              "      <td>0.668023</td>\n",
              "      <td>0.188933</td>\n",
              "      <td>0.590879</td>\n",
              "    </tr>\n",
              "    <tr>\n",
              "      <th>RM</th>\n",
              "      <td>-0.219247</td>\n",
              "      <td>0.311991</td>\n",
              "      <td>-0.391676</td>\n",
              "      <td>0.091251</td>\n",
              "      <td>-0.302188</td>\n",
              "      <td>1.000000</td>\n",
              "      <td>-0.240265</td>\n",
              "      <td>0.205246</td>\n",
              "      <td>-0.209847</td>\n",
              "      <td>-0.292048</td>\n",
              "      <td>-0.355501</td>\n",
              "      <td>-0.613808</td>\n",
              "    </tr>\n",
              "    <tr>\n",
              "      <th>AGE</th>\n",
              "      <td>0.352734</td>\n",
              "      <td>-0.569537</td>\n",
              "      <td>0.644779</td>\n",
              "      <td>0.086518</td>\n",
              "      <td>0.731470</td>\n",
              "      <td>-0.240265</td>\n",
              "      <td>1.000000</td>\n",
              "      <td>-0.747881</td>\n",
              "      <td>0.456022</td>\n",
              "      <td>0.506456</td>\n",
              "      <td>0.261515</td>\n",
              "      <td>0.602339</td>\n",
              "    </tr>\n",
              "    <tr>\n",
              "      <th>DIS</th>\n",
              "      <td>-0.379670</td>\n",
              "      <td>0.664408</td>\n",
              "      <td>-0.708027</td>\n",
              "      <td>-0.099176</td>\n",
              "      <td>-0.769230</td>\n",
              "      <td>0.205246</td>\n",
              "      <td>-0.747881</td>\n",
              "      <td>1.000000</td>\n",
              "      <td>-0.494588</td>\n",
              "      <td>-0.534432</td>\n",
              "      <td>-0.232471</td>\n",
              "      <td>-0.496996</td>\n",
              "    </tr>\n",
              "    <tr>\n",
              "      <th>RAD</th>\n",
              "      <td>0.625505</td>\n",
              "      <td>-0.311948</td>\n",
              "      <td>0.595129</td>\n",
              "      <td>-0.007368</td>\n",
              "      <td>0.611441</td>\n",
              "      <td>-0.209847</td>\n",
              "      <td>0.456022</td>\n",
              "      <td>-0.494588</td>\n",
              "      <td>1.000000</td>\n",
              "      <td>0.910228</td>\n",
              "      <td>0.464741</td>\n",
              "      <td>0.488676</td>\n",
              "    </tr>\n",
              "    <tr>\n",
              "      <th>TAX</th>\n",
              "      <td>0.582764</td>\n",
              "      <td>-0.314563</td>\n",
              "      <td>0.720760</td>\n",
              "      <td>-0.035587</td>\n",
              "      <td>0.668023</td>\n",
              "      <td>-0.292048</td>\n",
              "      <td>0.506456</td>\n",
              "      <td>-0.534432</td>\n",
              "      <td>0.910228</td>\n",
              "      <td>1.000000</td>\n",
              "      <td>0.460853</td>\n",
              "      <td>0.543993</td>\n",
              "    </tr>\n",
              "    <tr>\n",
              "      <th>PTRATIO</th>\n",
              "      <td>0.289946</td>\n",
              "      <td>-0.391679</td>\n",
              "      <td>0.383248</td>\n",
              "      <td>-0.121515</td>\n",
              "      <td>0.188933</td>\n",
              "      <td>-0.355501</td>\n",
              "      <td>0.261515</td>\n",
              "      <td>-0.232471</td>\n",
              "      <td>0.464741</td>\n",
              "      <td>0.460853</td>\n",
              "      <td>1.000000</td>\n",
              "      <td>0.374044</td>\n",
              "    </tr>\n",
              "    <tr>\n",
              "      <th>LSTAT</th>\n",
              "      <td>0.455621</td>\n",
              "      <td>-0.412995</td>\n",
              "      <td>0.603800</td>\n",
              "      <td>-0.053929</td>\n",
              "      <td>0.590879</td>\n",
              "      <td>-0.613808</td>\n",
              "      <td>0.602339</td>\n",
              "      <td>-0.496996</td>\n",
              "      <td>0.488676</td>\n",
              "      <td>0.543993</td>\n",
              "      <td>0.374044</td>\n",
              "      <td>1.000000</td>\n",
              "    </tr>\n",
              "  </tbody>\n",
              "</table>\n",
              "</div>\n",
              "      <button class=\"colab-df-convert\" onclick=\"convertToInteractive('df-837d905c-27bc-4945-98bf-40e1aea11964')\"\n",
              "              title=\"Convert this dataframe to an interactive table.\"\n",
              "              style=\"display:none;\">\n",
              "        \n",
              "  <svg xmlns=\"http://www.w3.org/2000/svg\" height=\"24px\"viewBox=\"0 0 24 24\"\n",
              "       width=\"24px\">\n",
              "    <path d=\"M0 0h24v24H0V0z\" fill=\"none\"/>\n",
              "    <path d=\"M18.56 5.44l.94 2.06.94-2.06 2.06-.94-2.06-.94-.94-2.06-.94 2.06-2.06.94zm-11 1L8.5 8.5l.94-2.06 2.06-.94-2.06-.94L8.5 2.5l-.94 2.06-2.06.94zm10 10l.94 2.06.94-2.06 2.06-.94-2.06-.94-.94-2.06-.94 2.06-2.06.94z\"/><path d=\"M17.41 7.96l-1.37-1.37c-.4-.4-.92-.59-1.43-.59-.52 0-1.04.2-1.43.59L10.3 9.45l-7.72 7.72c-.78.78-.78 2.05 0 2.83L4 21.41c.39.39.9.59 1.41.59.51 0 1.02-.2 1.41-.59l7.78-7.78 2.81-2.81c.8-.78.8-2.07 0-2.86zM5.41 20L4 18.59l7.72-7.72 1.47 1.35L5.41 20z\"/>\n",
              "  </svg>\n",
              "      </button>\n",
              "      \n",
              "  <style>\n",
              "    .colab-df-container {\n",
              "      display:flex;\n",
              "      flex-wrap:wrap;\n",
              "      gap: 12px;\n",
              "    }\n",
              "\n",
              "    .colab-df-convert {\n",
              "      background-color: #E8F0FE;\n",
              "      border: none;\n",
              "      border-radius: 50%;\n",
              "      cursor: pointer;\n",
              "      display: none;\n",
              "      fill: #1967D2;\n",
              "      height: 32px;\n",
              "      padding: 0 0 0 0;\n",
              "      width: 32px;\n",
              "    }\n",
              "\n",
              "    .colab-df-convert:hover {\n",
              "      background-color: #E2EBFA;\n",
              "      box-shadow: 0px 1px 2px rgba(60, 64, 67, 0.3), 0px 1px 3px 1px rgba(60, 64, 67, 0.15);\n",
              "      fill: #174EA6;\n",
              "    }\n",
              "\n",
              "    [theme=dark] .colab-df-convert {\n",
              "      background-color: #3B4455;\n",
              "      fill: #D2E3FC;\n",
              "    }\n",
              "\n",
              "    [theme=dark] .colab-df-convert:hover {\n",
              "      background-color: #434B5C;\n",
              "      box-shadow: 0px 1px 3px 1px rgba(0, 0, 0, 0.15);\n",
              "      filter: drop-shadow(0px 1px 2px rgba(0, 0, 0, 0.3));\n",
              "      fill: #FFFFFF;\n",
              "    }\n",
              "  </style>\n",
              "\n",
              "      <script>\n",
              "        const buttonEl =\n",
              "          document.querySelector('#df-837d905c-27bc-4945-98bf-40e1aea11964 button.colab-df-convert');\n",
              "        buttonEl.style.display =\n",
              "          google.colab.kernel.accessAllowed ? 'block' : 'none';\n",
              "\n",
              "        async function convertToInteractive(key) {\n",
              "          const element = document.querySelector('#df-837d905c-27bc-4945-98bf-40e1aea11964');\n",
              "          const dataTable =\n",
              "            await google.colab.kernel.invokeFunction('convertToInteractive',\n",
              "                                                     [key], {});\n",
              "          if (!dataTable) return;\n",
              "\n",
              "          const docLinkHtml = 'Like what you see? Visit the ' +\n",
              "            '<a target=\"_blank\" href=https://colab.research.google.com/notebooks/data_table.ipynb>data table notebook</a>'\n",
              "            + ' to learn more about interactive tables.';\n",
              "          element.innerHTML = '';\n",
              "          dataTable['output_type'] = 'display_data';\n",
              "          await google.colab.output.renderOutput(dataTable, element);\n",
              "          const docLink = document.createElement('div');\n",
              "          docLink.innerHTML = docLinkHtml;\n",
              "          element.appendChild(docLink);\n",
              "        }\n",
              "      </script>\n",
              "    </div>\n",
              "  </div>\n",
              "  "
            ],
            "text/plain": [
              "             CRIM        ZN     INDUS  ...       TAX   PTRATIO     LSTAT\n",
              "CRIM     1.000000 -0.200469  0.406583  ...  0.582764  0.289946  0.455621\n",
              "ZN      -0.200469  1.000000 -0.533828  ... -0.314563 -0.391679 -0.412995\n",
              "INDUS    0.406583 -0.533828  1.000000  ...  0.720760  0.383248  0.603800\n",
              "CHAS    -0.055892 -0.042697  0.062938  ... -0.035587 -0.121515 -0.053929\n",
              "NOX      0.420972 -0.516604  0.763651  ...  0.668023  0.188933  0.590879\n",
              "RM      -0.219247  0.311991 -0.391676  ... -0.292048 -0.355501 -0.613808\n",
              "AGE      0.352734 -0.569537  0.644779  ...  0.506456  0.261515  0.602339\n",
              "DIS     -0.379670  0.664408 -0.708027  ... -0.534432 -0.232471 -0.496996\n",
              "RAD      0.625505 -0.311948  0.595129  ...  0.910228  0.464741  0.488676\n",
              "TAX      0.582764 -0.314563  0.720760  ...  1.000000  0.460853  0.543993\n",
              "PTRATIO  0.289946 -0.391679  0.383248  ...  0.460853  1.000000  0.374044\n",
              "LSTAT    0.455621 -0.412995  0.603800  ...  0.543993  0.374044  1.000000\n",
              "\n",
              "[12 rows x 12 columns]"
            ]
          },
          "metadata": {},
          "execution_count": 21
        }
      ]
    },
    {
      "cell_type": "code",
      "source": [
        "fig, ax = plt.subplots()\n",
        "fig.set_size_inches(15,10)\n",
        "A= Housing_df.iloc[0:12,0:12].corr()\n",
        "sns.heatmap(A, fmt='.1f', annot = True,cmap = 'GnBu')"
      ],
      "metadata": {
        "colab": {
          "base_uri": "https://localhost:8080/",
          "height": 613
        },
        "id": "FH2c7Qz0etgc",
        "outputId": "cc558a10-6d06-4088-b703-263498a923ee"
      },
      "execution_count": null,
      "outputs": [
        {
          "output_type": "execute_result",
          "data": {
            "text/plain": [
              "<matplotlib.axes._subplots.AxesSubplot at 0x7f63fe99fb50>"
            ]
          },
          "metadata": {},
          "execution_count": 26
        },
        {
          "output_type": "display_data",
          "data": {
            "image/png": "[encoded data removed]",
            "text/plain": [
              "<Figure size 1080x720 with 2 Axes>"
            ]
          },
          "metadata": {
            "needs_background": "light"
          }
        }
      ]
    },
    {
      "cell_type": "markdown",
      "source": [
        "From the table above,the pairs: INDUS & DIS,INDUS & TAX, NOX & AGE, NOX & DIS, NOX & INDUS, AGE & DIS, RAD & TAX, LSTAT & MEDV,MEDV & CAT_MEDV have high correlations and may cause redundancy of information, hence, i will remove NOX, INDUS and TAX to reduce multicollinearity."
      ],
      "metadata": {
        "id": "ylVklgyG_rIi"
      }
    },
    {
      "cell_type": "markdown",
      "source": [
        "**Optional (Not Graded) for Winter 2022**\n",
        "\n",
        "\n",
        "**iii. Use two subset selection algorithms: backward and forward to reduce the remaining predictors. Compute the validation performance for both of the selected models. Compare RMSE, MAPE, and mean error, as well as histograms of the errors.** \n",
        "\n",
        "\n",
        "**Finally,describe the best model.**"
      ],
      "metadata": {
        "id": "YOtKm4o3hmql"
      }
    }
  ]
}